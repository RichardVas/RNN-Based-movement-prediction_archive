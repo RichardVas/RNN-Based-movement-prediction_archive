{
 "cells": [
  {
   "cell_type": "code",
   "execution_count": 1,
   "id": "b84d22f7",
   "metadata": {},
   "outputs": [],
   "source": [
    "import math\n",
    "import matplotlib.pyplot as plt\n",
    "x,y,w,h = 10,10,10,10 "
   ]
  },
  {
   "cell_type": "code",
   "execution_count": 6,
   "id": "4e6a2540",
   "metadata": {},
   "outputs": [
    {
     "name": "stdout",
     "output_type": "stream",
     "text": [
      "14.142135623730951\n"
     ]
    }
   ],
   "source": [
    "c1 = (x,y)\n",
    "c2 = (x+w,y+h)\n",
    "dist = math.hypot(w,h)\n",
    "print(dist)"
   ]
  },
  {
   "cell_type": "code",
   "execution_count": 11,
   "id": "229fd620",
   "metadata": {},
   "outputs": [
    {
     "data": {
      "text/plain": [
       "[[20], [21], [22], [23], [24], [25], [26], [27], [28], [29]]"
      ]
     },
     "execution_count": 11,
     "metadata": {},
     "output_type": "execute_result"
    }
   ],
   "source": [
    "pelda = [[i] for i in range(10)]\n",
    "time = [[j] for j in range (20,30)]\n",
    "pelda\n",
    "time"
   ]
  },
  {
   "cell_type": "code",
   "execution_count": 14,
   "id": "36da6280",
   "metadata": {},
   "outputs": [
    {
     "ename": "SyntaxError",
     "evalue": "invalid syntax (3440718074.py, line 1)",
     "output_type": "error",
     "traceback": [
      "\u001b[1;36m  Input \u001b[1;32mIn [14]\u001b[1;36m\u001b[0m\n\u001b[1;33m    plt.plot(time, for i in range 10)\u001b[0m\n\u001b[1;37m                   ^\u001b[0m\n\u001b[1;31mSyntaxError\u001b[0m\u001b[1;31m:\u001b[0m invalid syntax\n"
     ]
    }
   ],
   "source": [
    "plt.plot(time, [for i in range 10)\n",
    "plt.title('FPS')\n",
    "plt.ylabel('FrameRate')\n",
    "plt.xlabel('Frame')\n",
    "plt.show()"
   ]
  },
  {
   "cell_type": "code",
   "execution_count": null,
   "id": "914786e8",
   "metadata": {},
   "outputs": [],
   "source": []
  }
 ],
 "metadata": {
  "kernelspec": {
   "display_name": "Python 3 (ipykernel)",
   "language": "python",
   "name": "python3"
  },
  "language_info": {
   "codemirror_mode": {
    "name": "ipython",
    "version": 3
   },
   "file_extension": ".py",
   "mimetype": "text/x-python",
   "name": "python",
   "nbconvert_exporter": "python",
   "pygments_lexer": "ipython3",
   "version": "3.9.7"
  }
 },
 "nbformat": 4,
 "nbformat_minor": 5
}
